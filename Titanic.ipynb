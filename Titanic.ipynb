{
 "cells": [
  {
   "cell_type": "markdown",
   "metadata": {},
   "source": [
    "<center>\n",
    "<h1 style=\"font-weight:bold;color:#a64d79\">Prédictions des survivants du Titanic</h1>\n",
    "<p>Projet data mining | Analyse de données et prédictions</p>\n",
    "</center>"
   ]
  },
  {
   "cell_type": "markdown",
   "metadata": {},
   "source": [
    "<h2 style=\"font-weight:bold;color:#c27ba0\">Objectif</h2>\n",
    "<p>Grâce au dataset <a href=\"https://www.kaggle.com/competitions/titanic\" style=\"color:#c27ba0\"><b>Titanic</b></a>, nous allons tenter de prédire la survie d'un passager du Titanic.\n",
    "<br>Pour cela, nous allons dans un premier temps explorer, visualiser et préparer les données.\n",
    "<br>Ensuite, nous allons construire un modèle de classification et évaluer sa performance dans la prédiction des survivants du Titanic.</p>"
   ]
  },
  {
   "cell_type": "markdown",
   "metadata": {},
   "source": [
    "<h2 style=\"font-weight:bold;color:#c27ba0\">Exploration des données</h2>"
   ]
  },
  {
   "cell_type": "markdown",
   "metadata": {},
   "source": [
    "<h3 style=\"font-weight:bold;color:#a64d79\">Création du dataframe</h3>"
   ]
  },
  {
   "cell_type": "code",
   "execution_count": 1,
   "metadata": {},
   "outputs": [],
   "source": [
    "# Importation des bibliothèques nécessaires\n",
    "import numpy as np\n",
    "import pandas as pd\n",
    "import matplotlib.pyplot as plt\n",
    "import seaborn as sns\n",
    "import sklearn"
   ]
  },
  {
   "cell_type": "markdown",
   "metadata": {},
   "source": [
    "Dans un premier temps, nous allons créer un dataframe à partir des données puis nous allons afficher ses premières lignes.\n",
    "<br>Cela nous permettra de visualiser les données et d'avoir une première idée des colonnes qui peuvent être pertinentes dans la prédiction."
   ]
  },
  {
   "cell_type": "code",
   "execution_count": 2,
   "metadata": {},
   "outputs": [
    {
     "name": "stdout",
     "output_type": "stream",
     "text": [
      "Informations du dataframe :\n",
      "--------------------------------------------\n",
      "<class 'pandas.core.frame.DataFrame'>\n",
      "RangeIndex: 891 entries, 0 to 890\n",
      "Data columns (total 12 columns):\n",
      " #   Column       Non-Null Count  Dtype  \n",
      "---  ------       --------------  -----  \n",
      " 0   PassengerId  891 non-null    int64  \n",
      " 1   Survived     891 non-null    int64  \n",
      " 2   Pclass       891 non-null    int64  \n",
      " 3   Name         891 non-null    object \n",
      " 4   Sex          891 non-null    object \n",
      " 5   Age          714 non-null    float64\n",
      " 6   SibSp        891 non-null    int64  \n",
      " 7   Parch        891 non-null    int64  \n",
      " 8   Ticket       891 non-null    object \n",
      " 9   Fare         891 non-null    float64\n",
      " 10  Cabin        204 non-null    object \n",
      " 11  Embarked     889 non-null    object \n",
      "dtypes: float64(2), int64(5), object(5)\n",
      "memory usage: 83.7+ KB\n"
     ]
    },
    {
     "data": {
      "text/html": [
       "<div>\n",
       "<style scoped>\n",
       "    .dataframe tbody tr th:only-of-type {\n",
       "        vertical-align: middle;\n",
       "    }\n",
       "\n",
       "    .dataframe tbody tr th {\n",
       "        vertical-align: top;\n",
       "    }\n",
       "\n",
       "    .dataframe thead th {\n",
       "        text-align: right;\n",
       "    }\n",
       "</style>\n",
       "<table border=\"1\" class=\"dataframe\">\n",
       "  <thead>\n",
       "    <tr style=\"text-align: right;\">\n",
       "      <th></th>\n",
       "      <th>PassengerId</th>\n",
       "      <th>Survived</th>\n",
       "      <th>Pclass</th>\n",
       "      <th>Name</th>\n",
       "      <th>Sex</th>\n",
       "      <th>Age</th>\n",
       "      <th>SibSp</th>\n",
       "      <th>Parch</th>\n",
       "      <th>Ticket</th>\n",
       "      <th>Fare</th>\n",
       "      <th>Cabin</th>\n",
       "      <th>Embarked</th>\n",
       "    </tr>\n",
       "  </thead>\n",
       "  <tbody>\n",
       "    <tr>\n",
       "      <th>0</th>\n",
       "      <td>1</td>\n",
       "      <td>0</td>\n",
       "      <td>3</td>\n",
       "      <td>Braund, Mr. Owen Harris</td>\n",
       "      <td>male</td>\n",
       "      <td>22.0</td>\n",
       "      <td>1</td>\n",
       "      <td>0</td>\n",
       "      <td>A/5 21171</td>\n",
       "      <td>7.2500</td>\n",
       "      <td>NaN</td>\n",
       "      <td>S</td>\n",
       "    </tr>\n",
       "    <tr>\n",
       "      <th>1</th>\n",
       "      <td>2</td>\n",
       "      <td>1</td>\n",
       "      <td>1</td>\n",
       "      <td>Cumings, Mrs. John Bradley (Florence Briggs Th...</td>\n",
       "      <td>female</td>\n",
       "      <td>38.0</td>\n",
       "      <td>1</td>\n",
       "      <td>0</td>\n",
       "      <td>PC 17599</td>\n",
       "      <td>71.2833</td>\n",
       "      <td>C85</td>\n",
       "      <td>C</td>\n",
       "    </tr>\n",
       "    <tr>\n",
       "      <th>2</th>\n",
       "      <td>3</td>\n",
       "      <td>1</td>\n",
       "      <td>3</td>\n",
       "      <td>Heikkinen, Miss. Laina</td>\n",
       "      <td>female</td>\n",
       "      <td>26.0</td>\n",
       "      <td>0</td>\n",
       "      <td>0</td>\n",
       "      <td>STON/O2. 3101282</td>\n",
       "      <td>7.9250</td>\n",
       "      <td>NaN</td>\n",
       "      <td>S</td>\n",
       "    </tr>\n",
       "    <tr>\n",
       "      <th>3</th>\n",
       "      <td>4</td>\n",
       "      <td>1</td>\n",
       "      <td>1</td>\n",
       "      <td>Futrelle, Mrs. Jacques Heath (Lily May Peel)</td>\n",
       "      <td>female</td>\n",
       "      <td>35.0</td>\n",
       "      <td>1</td>\n",
       "      <td>0</td>\n",
       "      <td>113803</td>\n",
       "      <td>53.1000</td>\n",
       "      <td>C123</td>\n",
       "      <td>S</td>\n",
       "    </tr>\n",
       "    <tr>\n",
       "      <th>4</th>\n",
       "      <td>5</td>\n",
       "      <td>0</td>\n",
       "      <td>3</td>\n",
       "      <td>Allen, Mr. William Henry</td>\n",
       "      <td>male</td>\n",
       "      <td>35.0</td>\n",
       "      <td>0</td>\n",
       "      <td>0</td>\n",
       "      <td>373450</td>\n",
       "      <td>8.0500</td>\n",
       "      <td>NaN</td>\n",
       "      <td>S</td>\n",
       "    </tr>\n",
       "  </tbody>\n",
       "</table>\n",
       "</div>"
      ],
      "text/plain": [
       "   PassengerId  Survived  Pclass  \\\n",
       "0            1         0       3   \n",
       "1            2         1       1   \n",
       "2            3         1       3   \n",
       "3            4         1       1   \n",
       "4            5         0       3   \n",
       "\n",
       "                                                Name     Sex   Age  SibSp  \\\n",
       "0                            Braund, Mr. Owen Harris    male  22.0      1   \n",
       "1  Cumings, Mrs. John Bradley (Florence Briggs Th...  female  38.0      1   \n",
       "2                             Heikkinen, Miss. Laina  female  26.0      0   \n",
       "3       Futrelle, Mrs. Jacques Heath (Lily May Peel)  female  35.0      1   \n",
       "4                           Allen, Mr. William Henry    male  35.0      0   \n",
       "\n",
       "   Parch            Ticket     Fare Cabin Embarked  \n",
       "0      0         A/5 21171   7.2500   NaN        S  \n",
       "1      0          PC 17599  71.2833   C85        C  \n",
       "2      0  STON/O2. 3101282   7.9250   NaN        S  \n",
       "3      0            113803  53.1000  C123        S  \n",
       "4      0            373450   8.0500   NaN        S  "
      ]
     },
     "execution_count": 2,
     "metadata": {},
     "output_type": "execute_result"
    }
   ],
   "source": [
    "# Création d'un dataframe à partir du dataset\n",
    "pd.set_option('display.max_columns', None)\n",
    "df = pd.read_csv('data/train.csv')\n",
    "\n",
    "# Affichage information du dataframe\n",
    "print(\"Informations du dataframe :\")\n",
    "print(\"--------------------------------------------\")\n",
    "df.info()\n",
    "\n",
    "# Visualisation des premières lignes du dataframe\n",
    "df.head()"
   ]
  },
  {
   "cell_type": "markdown",
   "metadata": {},
   "source": [
    "<h3 style=\"font-weight:bold;color:#a64d79\">Exploration des colonnes</h3>"
   ]
  },
  {
   "cell_type": "markdown",
   "metadata": {},
   "source": [
    "Nous constatons ainsi que le dataframe contient 891 lignes et qu'il contient 3 types différents de données.\n",
    "<br>Notre dataframe est constitué de 12 colonnes contenant des informations relatives au passager :\n",
    "- <b>PassengerId</b> : son numéro d'identification\n",
    "- <b>Survived</b> : s'il a survécu ou pas\n",
    "- <b>Pclass</b> : sa classe à bord du Titanic\n",
    "- <b>Name</b> : son nom\n",
    "- <b>Sex</b> : son genre\n",
    "- <b>Age</b> : son âge\n",
    "- <b>SibSp</b> : le nombre de frère, soeur et conjoint avec qui il voyage à bord du Titanic\n",
    "- <b>Parch</b> : le nombre de parent et enfant avec qui il voyage à bord du Titanic\n",
    "- <b>Ticket</b> : le numéro de son billet\n",
    "- <b>Fare</b> : le tarif de son billet\n",
    "- <b>Cabin</b> : le numéro de sa cabine\n",
    "- <b>Embarked</b> : le port depuis lequel il a embarqué (Cherbourg, Southhampton, Queenstown)\n",
    "\n",
    "Nous essayons de prédire la survie du passager dans le Titanic. Notre variable cible est donc <b style=\"font-weight:bold;color:#c27ba0\">Survived</b>.\n",
    "\n",
    "Les colonnes <b>Ticket</b> et <b>PassengerId</b> ne sont pas très pertinentes. Nous pouvons les supprimer.\n",
    "<br>La colonne <b>Name</b> peut être exploitée afin d'identifier un titre de range social dans le nom. Nous allons créer une nouvelle colonne avec le titre et supprimer celle-ci.\n",
    "<br>La colonne <b>Cabin</b> peut également être exploité si nous étudions l'emplacement des cabines dans le bateau. Cependant, nous n'avons pas assez d'informations pour explorer cette piste. Ainsi, nous pouvons également supprimer cette colonne. "
   ]
  },
  {
   "cell_type": "code",
   "execution_count": 3,
   "metadata": {},
   "outputs": [
    {
     "data": {
      "text/html": [
       "<div>\n",
       "<style scoped>\n",
       "    .dataframe tbody tr th:only-of-type {\n",
       "        vertical-align: middle;\n",
       "    }\n",
       "\n",
       "    .dataframe tbody tr th {\n",
       "        vertical-align: top;\n",
       "    }\n",
       "\n",
       "    .dataframe thead th {\n",
       "        text-align: right;\n",
       "    }\n",
       "</style>\n",
       "<table border=\"1\" class=\"dataframe\">\n",
       "  <thead>\n",
       "    <tr style=\"text-align: right;\">\n",
       "      <th></th>\n",
       "      <th>Survived</th>\n",
       "      <th>Pclass</th>\n",
       "      <th>Sex</th>\n",
       "      <th>Age</th>\n",
       "      <th>SibSp</th>\n",
       "      <th>Parch</th>\n",
       "      <th>Fare</th>\n",
       "      <th>Embarked</th>\n",
       "      <th>Title</th>\n",
       "    </tr>\n",
       "  </thead>\n",
       "  <tbody>\n",
       "    <tr>\n",
       "      <th>0</th>\n",
       "      <td>0</td>\n",
       "      <td>3</td>\n",
       "      <td>male</td>\n",
       "      <td>22.0</td>\n",
       "      <td>1</td>\n",
       "      <td>0</td>\n",
       "      <td>7.2500</td>\n",
       "      <td>S</td>\n",
       "      <td>0</td>\n",
       "    </tr>\n",
       "    <tr>\n",
       "      <th>1</th>\n",
       "      <td>1</td>\n",
       "      <td>1</td>\n",
       "      <td>female</td>\n",
       "      <td>38.0</td>\n",
       "      <td>1</td>\n",
       "      <td>0</td>\n",
       "      <td>71.2833</td>\n",
       "      <td>C</td>\n",
       "      <td>0</td>\n",
       "    </tr>\n",
       "    <tr>\n",
       "      <th>2</th>\n",
       "      <td>1</td>\n",
       "      <td>3</td>\n",
       "      <td>female</td>\n",
       "      <td>26.0</td>\n",
       "      <td>0</td>\n",
       "      <td>0</td>\n",
       "      <td>7.9250</td>\n",
       "      <td>S</td>\n",
       "      <td>0</td>\n",
       "    </tr>\n",
       "    <tr>\n",
       "      <th>3</th>\n",
       "      <td>1</td>\n",
       "      <td>1</td>\n",
       "      <td>female</td>\n",
       "      <td>35.0</td>\n",
       "      <td>1</td>\n",
       "      <td>0</td>\n",
       "      <td>53.1000</td>\n",
       "      <td>S</td>\n",
       "      <td>0</td>\n",
       "    </tr>\n",
       "    <tr>\n",
       "      <th>4</th>\n",
       "      <td>0</td>\n",
       "      <td>3</td>\n",
       "      <td>male</td>\n",
       "      <td>35.0</td>\n",
       "      <td>0</td>\n",
       "      <td>0</td>\n",
       "      <td>8.0500</td>\n",
       "      <td>S</td>\n",
       "      <td>0</td>\n",
       "    </tr>\n",
       "  </tbody>\n",
       "</table>\n",
       "</div>"
      ],
      "text/plain": [
       "   Survived  Pclass     Sex   Age  SibSp  Parch     Fare Embarked  Title\n",
       "0         0       3    male  22.0      1      0   7.2500        S      0\n",
       "1         1       1  female  38.0      1      0  71.2833        C      0\n",
       "2         1       3  female  26.0      0      0   7.9250        S      0\n",
       "3         1       1  female  35.0      1      0  53.1000        S      0\n",
       "4         0       3    male  35.0      0      0   8.0500        S      0"
      ]
     },
     "execution_count": 3,
     "metadata": {},
     "output_type": "execute_result"
    }
   ],
   "source": [
    "# Extraction du titre dans le nom\n",
    "title = df.Name.str.extract('([A-Za-z]+)\\.')\n",
    "\n",
    "# Remplacement par la catégorie sociale dans l'ordre de la hiérarchie\n",
    "# Noble (3), Officer (2), Ecclesiastical (1), No title (0)\n",
    "\n",
    "title.replace(to_replace = ['Dr', 'Major', 'Col', 'Capt'], value = 2, inplace=True, regex=True)\n",
    "title.replace(to_replace = ['Rev'], value = 1, inplace=True, regex=True)\n",
    "title.replace(to_replace = ['Master', 'Countess', 'Sir', 'Lady', 'Don', 'Jonkheer'], value = 3, inplace = True, regex=True)\n",
    "title.replace(to_replace = ['Mrs', 'Mr', 'Miss', 'Mlle', 'Mme', 'Ms'], value = 0, inplace = True, regex=True)\n",
    "df['Title'] = title\n",
    "\n",
    "# Suppression des colonnes inutiles\n",
    "df.drop('Name', axis=1, inplace=True)\n",
    "df.drop('PassengerId', axis=1, inplace=True)\n",
    "df.drop('Ticket', axis=1, inplace=True)\n",
    "df.drop('Cabin', axis=1, inplace=True)\n",
    "\n",
    "# Visualisation du dataframe\n",
    "df.head()"
   ]
  },
  {
   "cell_type": "markdown",
   "metadata": {},
   "source": [
    "<h3 style=\"font-weight:bold;color:#a64d79\">Données manquantes</h3>"
   ]
  },
  {
   "cell_type": "markdown",
   "metadata": {},
   "source": [
    "Visualisons maintenant les informations concernant le dataframe et vérifions s'il y a des données manquantes."
   ]
  },
  {
   "cell_type": "code",
   "execution_count": 4,
   "metadata": {},
   "outputs": [
    {
     "name": "stdout",
     "output_type": "stream",
     "text": [
      "Nombre de donnée null par colonne :\n",
      "---------------------------------\n"
     ]
    },
    {
     "data": {
      "text/plain": [
       "Survived      0\n",
       "Pclass        0\n",
       "Sex           0\n",
       "Age         177\n",
       "SibSp         0\n",
       "Parch         0\n",
       "Fare          0\n",
       "Embarked      2\n",
       "Title         0\n",
       "dtype: int64"
      ]
     },
     "execution_count": 4,
     "metadata": {},
     "output_type": "execute_result"
    }
   ],
   "source": [
    "# Vérification s'il y a des données manquantes\n",
    "print(\"Nombre de donnée null par colonne :\")\n",
    "print(\"---------------------------------\")\n",
    "df.isnull().sum()"
   ]
  },
  {
   "cell_type": "markdown",
   "metadata": {},
   "source": [
    "Nous constatons que dans les colonnes <b>Age</b> et <b>Embarked</b> des données sont manquantes.\n",
    "<br>Seules 2 données dans la colonne <b>Embarked</b> sont manquantes. Le port d'embarquement étant une chaine de caractère, nous allons compléter la colonne avec le mode (valeur la plus fréquente).\n",
    "<br><br>Nous traiterons les données manquantes de la colonnes <b>Age</b> plus tard car celles-ci nécessite plus de traitement. En effet, le nombre de données manquantes dans cette colonnes est très élevé. Compléter ces lignes avec la moyenne globale d'âge sur le Titanic pourrait fortement fausser notre prédiction. Nous essayerons donc de trouver la valeur la plus proche de l'âge de chaque passager en étudier la corrélation de l'âge avec une autre variable du dataset."
   ]
  },
  {
   "cell_type": "code",
   "execution_count": 5,
   "metadata": {},
   "outputs": [],
   "source": [
    "# Saisie des données manquantes Embarked\n",
    "df['Embarked'].fillna(df['Embarked'].mode()[0], inplace=True)"
   ]
  },
  {
   "cell_type": "markdown",
   "metadata": {},
   "source": [
    "<h3 style=\"font-weight:bold;color:#a64d79\">Conversions des données non numériques</h3>"
   ]
  },
  {
   "cell_type": "markdown",
   "metadata": {},
   "source": [
    "Afin de mettre en relation ces données et les exploiter au maximum, nous devons les convertir en donnée numériques. Cela nous permettra également d'afficher la matrice de corrélation pour combler les données manquantes de la colonne <b>Age</b>."
   ]
  },
  {
   "cell_type": "code",
   "execution_count": 6,
   "metadata": {},
   "outputs": [
    {
     "name": "stdout",
     "output_type": "stream",
     "text": [
      "Corrélation entre l'âge du passager et les autres critères:\n"
     ]
    },
    {
     "data": {
      "text/plain": [
       "Survived   -0.077221\n",
       "Pclass     -0.369226\n",
       "Sex         0.093254\n",
       "Age         1.000000\n",
       "SibSp      -0.308247\n",
       "Parch      -0.189119\n",
       "Fare        0.096067\n",
       "Embarked   -0.030394\n",
       "Title      -0.267000\n",
       "Name: Age, dtype: float64"
      ]
     },
     "execution_count": 6,
     "metadata": {},
     "output_type": "execute_result"
    }
   ],
   "source": [
    "# Conversion des données non numériques\n",
    "# Sex : female (0) et male (1)\n",
    "# Embarked : C (0), Q (1) et S (2)\n",
    "\n",
    "from sklearn.preprocessing import LabelEncoder\n",
    "\n",
    "non_numeric_columns = ['Sex', 'Embarked']\n",
    "for column in non_numeric_columns:\n",
    "    df[column] = LabelEncoder().fit_transform(df[column])\n",
    "df.head()\n",
    "\n",
    "# Affichage corrélation entre l'âge du passager et un autre critère\n",
    "print('Corrélation entre l\\'âge du passager et les autres critères:')\n",
    "df.corr().loc['Age']"
   ]
  },
  {
   "cell_type": "markdown",
   "metadata": {},
   "source": [
    "Nous constatons ainsi une forte corrélation négative entre l'âge du passager et la classe dans laquelle celui-ci voyage. Ainsi, nous pouvons calculer la moyenne d'âge dans chacune des classes et utiliser cette valeur pour compléter les données manquantes du tableau.\n",
    "<br>Pour un résultat plus précis nous aurions pu prendre en compte l'ensemble des critères et définir l'âge moyen en fonction des combinaisons différentes."
   ]
  },
  {
   "cell_type": "code",
   "execution_count": 7,
   "metadata": {},
   "outputs": [
    {
     "name": "stdout",
     "output_type": "stream",
     "text": [
      "Moyenne d'âge des passager en fonction de la classe :\n",
      "\n",
      "Pclass\n",
      "1    38.233441\n",
      "2    29.877630\n",
      "3    25.140620\n",
      "Name: Age, dtype: float64\n",
      "Nombre de donnée null par colonne :\n",
      "---------------------------------\n"
     ]
    },
    {
     "data": {
      "text/plain": [
       "Survived    0\n",
       "Pclass      0\n",
       "Sex         0\n",
       "Age         0\n",
       "SibSp       0\n",
       "Parch       0\n",
       "Fare        0\n",
       "Embarked    0\n",
       "Title       0\n",
       "dtype: int64"
      ]
     },
     "execution_count": 7,
     "metadata": {},
     "output_type": "execute_result"
    }
   ],
   "source": [
    "# Calcul de l'âge moyen par classe\n",
    "print('Moyenne d\\'âge des passager en fonction de la classe :\\n')\n",
    "mean_age_by_pclass = df.groupby('Pclass')['Age'].mean()\n",
    "print(mean_age_by_pclass)\n",
    "\n",
    "# Remplacement des valeurs manquantes dans Age\n",
    "for x in range(1,4,1):\n",
    "    df['Age'].fillna(mean_age_by_pclass.loc[x], inplace=True)\n",
    "\n",
    "# Vérification des données manquantes\n",
    "print(\"Nombre de donnée null par colonne :\")\n",
    "print(\"---------------------------------\")\n",
    "df.isnull().sum()"
   ]
  },
  {
   "cell_type": "markdown",
   "metadata": {},
   "source": [
    "<h3 style=\"font-weight:bold;color:#a64d79\">Visualisation des données des colonnes</h3>"
   ]
  },
  {
   "cell_type": "markdown",
   "metadata": {},
   "source": [
    "Maintenant que nous avons compléter toutes les données manquantes et que nous avons uniquement des données numériques, nous pouvons afficher une description statistiques des variables."
   ]
  },
  {
   "cell_type": "code",
   "execution_count": 8,
   "metadata": {},
   "outputs": [
    {
     "name": "stdout",
     "output_type": "stream",
     "text": [
      "Statistiques descriptives des variables catégoriques :\n",
      "\n",
      "               Survived      Pclass         Sex    Embarked       Title\n",
      "count        891.000000  891.000000  891.000000  891.000000  891.000000\n",
      "count 0      549.000000    0.000000  314.000000  168.000000  828.000000\n",
      "count 0 (%)   61.616162    0.000000   35.241302   18.855219   92.929293\n",
      "count 1      342.000000  216.000000  577.000000   77.000000    6.000000\n",
      "count 1 (%)   38.383838   24.242424   64.758698    8.641975    0.673401\n",
      "count 2        0.000000  184.000000    0.000000  646.000000   12.000000\n",
      "count 2 (%)    0.000000   20.650954    0.000000   72.502806    1.346801\n",
      "count 3        0.000000  491.000000    0.000000    0.000000   45.000000\n",
      "count 3 (%)    0.000000   55.106622    0.000000    0.000000    5.050505\n",
      "\n",
      "Légende :\n",
      "Sex | Female (0) et le (1)\n",
      "Embarked | Cherbourg (0), Queenstown (1) et Southhampton (2)\n",
      "Title | No title (0), Ecclesiastical (1), Officer (2), Noble (3)\n",
      "\n",
      "\n",
      "Statistiques descriptives des variables numériques :\n",
      "\n",
      "              Age       SibSp       Parch        Fare\n",
      "count  891.000000  891.000000  891.000000  891.000000\n",
      "mean    31.394488    0.523008    0.381594   32.204208\n",
      "std     13.440982    1.102743    0.806057   49.693429\n",
      "min      0.420000    0.000000    0.000000    0.000000\n",
      "25%     22.000000    0.000000    0.000000    7.910400\n",
      "50%     32.000000    0.000000    0.000000   14.454200\n",
      "75%     38.233441    1.000000    0.000000   31.000000\n",
      "max     80.000000    8.000000    6.000000  512.329200\n"
     ]
    }
   ],
   "source": [
    "# Séparation des colonnes catégoriques et numériques\n",
    "df_numeric = df[['Age', 'SibSp', 'Parch', 'Fare']]\n",
    "df_categoric = df[['Survived','Pclass','Sex','Embarked', 'Title']]\n",
    "\n",
    "\n",
    "# Statistiques descriptives des variables catégoriques (personnalisé pour obtenir des valeurs plus pertinentes)\n",
    "# Avec affichage semblable aux statistiques descriptives des caractéristiques\n",
    "print(f\"Statistiques descriptives des variables catégoriques :\\n\")\n",
    "categoric_stats_list = []\n",
    "for column in df_categoric.columns:\n",
    "    stats = {\n",
    "        'count': df_categoric[column].count(),\n",
    "        'count 0': (df_categoric[column] == 0).sum(),\n",
    "        'count 0 (%)': ((df_categoric[column] == 0).sum()) * 100 / df_categoric[column].count(),\n",
    "        'count 1': (df_categoric[column] == 1).sum(),\n",
    "        'count 1 (%)': ((df_categoric[column] == 1).sum()) * 100 / df_categoric[column].count(),\n",
    "        'count 2': (df_categoric[column] == 2).sum(),\n",
    "        'count 2 (%)': ((df_categoric[column] == 2).sum()) * 100 / df_categoric[column].count(),\n",
    "        'count 3': (df_categoric[column] == 3).sum(),\n",
    "        'count 3 (%)': ((df_categoric[column] == 3).sum()) * 100 / df_categoric[column].count()\n",
    "    }\n",
    "    categoric_stats_list.append(stats)\n",
    "\n",
    "categoric_stats = pd.DataFrame(categoric_stats_list, index=df_categoric.columns)\n",
    "categoric_stats = categoric_stats.rename({0: 'Survived', 1: 'Pclass', 2: 'Sex', 3: 'Embarked', 4: 'Title'})\n",
    "categoric_stats = categoric_stats.T\n",
    "print(categoric_stats)\n",
    "print('\\nLégende :\\nSex | Female (0) et le (1)\\nEmbarked | Cherbourg (0), Queenstown (1) et Southhampton (2)\\nTitle | No title (0), Ecclesiastical (1), Officer (2), Noble (3)')\n",
    "\n",
    "# Statistiques descriptives des variables numériques\n",
    "print(f\"\\n\\nStatistiques descriptives des variables numériques :\\n\")\n",
    "print(df_numeric.describe())"
   ]
  },
  {
   "cell_type": "markdown",
   "metadata": {},
   "source": [
    "Traçons maintenant des graphiques visuels afin d'illustrer ces informations et mieux les comprendre.\n",
    "<br>Nous avons constaté que la distribution du prix des billets est très étendue. Afin de stabiliser la variance et faciliter la détection des modèles, nous allons effectuer une transformation logarithmique."
   ]
  },
  {
   "cell_type": "code",
   "execution_count": 9,
   "metadata": {},
   "outputs": [
    {
     "name": "stdout",
     "output_type": "stream",
     "text": [
      "Distribution des données catégoriques : \n"
     ]
    },
    {
     "data": {
      "image/png": "[encoded data removed]",
      "text/plain": [
       "<Figure size 1600x300 with 5 Axes>"
      ]
     },
     "metadata": {},
     "output_type": "display_data"
    },
    {
     "name": "stdout",
     "output_type": "stream",
     "text": [
      "Distribution des données numériques : \n"
     ]
    },
    {
     "data": {
      "image/png": "[encoded data removed]",
      "text/plain": [
       "<Figure size 1600x400 with 4 Axes>"
      ]
     },
     "metadata": {},
     "output_type": "display_data"
    }
   ],
   "source": [
    "# Distribution des données catégoriques (dont distribution des classes)\n",
    "print('Distribution des données catégoriques : ')\n",
    "fig, axes = plt.subplots(1, 5, figsize=(16, 3))\n",
    "for x, categoric_info in enumerate(df_categoric.columns):\n",
    "    sns.countplot(x=categoric_info, data=df_categoric, color=\"#E1AEBC\", ax=axes[x])\n",
    "    axes[x].set_ylabel(\"Nombre de passagers\")\n",
    "plt.tight_layout()\n",
    "plt.show()\n",
    "\n",
    "# Transformation logarithmique pour Fare\n",
    "df['Fare'] = np.log(df['Fare']+1)\n",
    "\n",
    "# Distribution des données numériques\n",
    "print('Distribution des données numériques : ')\n",
    "fig, axes = plt.subplots(1, 4, figsize=(16, 4))\n",
    "for x, numeric_info in enumerate(df_numeric.columns):\n",
    "    if(numeric_info == 'SibSp' or numeric_info == 'Parch'):\n",
    "        sns.countplot(x=numeric_info, data=df_numeric, color=\"#E1AEBC\", ax=axes[x])\n",
    "        axes[x].set_ylabel(\"Nombre de passagers\")\n",
    "    else:\n",
    "        sns.histplot(x=df[numeric_info].dropna(), kde=True, color=\"#E1AEBC\", ax=axes[x])\n",
    "        axes[x].set_ylabel(\"Densité\")\n",
    "plt.tight_layout()\n",
    "plt.show()"
   ]
  },
  {
   "cell_type": "markdown",
   "metadata": {},
   "source": [
    "<h3 style=\"font-weight:bold;color:#a64d79\">Matrice de corrélation</h3>"
   ]
  },
  {
   "cell_type": "markdown",
   "metadata": {},
   "source": [
    "Recherchons maintenant une corrélation entre la survie d'un passager et les autre caractéristiques lui correspondant."
   ]
  },
  {
   "cell_type": "code",
   "execution_count": 10,
   "metadata": {},
   "outputs": [
    {
     "data": {
      "image/png": "[encoded data removed]",
      "text/plain": [
       "<Figure size 640x480 with 2 Axes>"
      ]
     },
     "metadata": {},
     "output_type": "display_data"
    },
    {
     "name": "stdout",
     "output_type": "stream",
     "text": [
      "Matrice de corrélation :\n"
     ]
    },
    {
     "data": {
      "text/html": [
       "<div>\n",
       "<style scoped>\n",
       "    .dataframe tbody tr th:only-of-type {\n",
       "        vertical-align: middle;\n",
       "    }\n",
       "\n",
       "    .dataframe tbody tr th {\n",
       "        vertical-align: top;\n",
       "    }\n",
       "\n",
       "    .dataframe thead th {\n",
       "        text-align: right;\n",
       "    }\n",
       "</style>\n",
       "<table border=\"1\" class=\"dataframe\">\n",
       "  <thead>\n",
       "    <tr style=\"text-align: right;\">\n",
       "      <th></th>\n",
       "      <th>Survived</th>\n",
       "      <th>Pclass</th>\n",
       "      <th>Sex</th>\n",
       "      <th>Age</th>\n",
       "      <th>SibSp</th>\n",
       "      <th>Parch</th>\n",
       "      <th>Fare</th>\n",
       "      <th>Embarked</th>\n",
       "      <th>Title</th>\n",
       "    </tr>\n",
       "  </thead>\n",
       "  <tbody>\n",
       "    <tr>\n",
       "      <th>Survived</th>\n",
       "      <td>1.000000</td>\n",
       "      <td>-0.338481</td>\n",
       "      <td>-0.543351</td>\n",
       "      <td>-0.090898</td>\n",
       "      <td>-0.035322</td>\n",
       "      <td>0.081629</td>\n",
       "      <td>0.329862</td>\n",
       "      <td>-0.167675</td>\n",
       "      <td>0.082092</td>\n",
       "    </tr>\n",
       "    <tr>\n",
       "      <th>Pclass</th>\n",
       "      <td>-0.338481</td>\n",
       "      <td>1.000000</td>\n",
       "      <td>0.131900</td>\n",
       "      <td>-0.276683</td>\n",
       "      <td>0.083081</td>\n",
       "      <td>0.018443</td>\n",
       "      <td>-0.661022</td>\n",
       "      <td>0.162098</td>\n",
       "      <td>-0.021163</td>\n",
       "    </tr>\n",
       "    <tr>\n",
       "      <th>Sex</th>\n",
       "      <td>-0.543351</td>\n",
       "      <td>0.131900</td>\n",
       "      <td>1.000000</td>\n",
       "      <td>0.095401</td>\n",
       "      <td>-0.114631</td>\n",
       "      <td>-0.245489</td>\n",
       "      <td>-0.263276</td>\n",
       "      <td>0.108262</td>\n",
       "      <td>0.169900</td>\n",
       "    </tr>\n",
       "    <tr>\n",
       "      <th>Age</th>\n",
       "      <td>-0.090898</td>\n",
       "      <td>-0.276683</td>\n",
       "      <td>0.095401</td>\n",
       "      <td>1.000000</td>\n",
       "      <td>-0.220222</td>\n",
       "      <td>-0.204796</td>\n",
       "      <td>0.057208</td>\n",
       "      <td>-0.064594</td>\n",
       "      <td>-0.264800</td>\n",
       "    </tr>\n",
       "    <tr>\n",
       "      <th>SibSp</th>\n",
       "      <td>-0.035322</td>\n",
       "      <td>0.083081</td>\n",
       "      <td>-0.114631</td>\n",
       "      <td>-0.220222</td>\n",
       "      <td>1.000000</td>\n",
       "      <td>0.414838</td>\n",
       "      <td>0.318528</td>\n",
       "      <td>0.068230</td>\n",
       "      <td>0.303551</td>\n",
       "    </tr>\n",
       "    <tr>\n",
       "      <th>Parch</th>\n",
       "      <td>0.081629</td>\n",
       "      <td>0.018443</td>\n",
       "      <td>-0.245489</td>\n",
       "      <td>-0.204796</td>\n",
       "      <td>0.414838</td>\n",
       "      <td>1.000000</td>\n",
       "      <td>0.332186</td>\n",
       "      <td>0.039798</td>\n",
       "      <td>0.211025</td>\n",
       "    </tr>\n",
       "    <tr>\n",
       "      <th>Fare</th>\n",
       "      <td>0.329862</td>\n",
       "      <td>-0.661022</td>\n",
       "      <td>-0.263276</td>\n",
       "      <td>0.057208</td>\n",
       "      <td>0.318528</td>\n",
       "      <td>0.332186</td>\n",
       "      <td>1.000000</td>\n",
       "      <td>-0.202444</td>\n",
       "      <td>0.111966</td>\n",
       "    </tr>\n",
       "    <tr>\n",
       "      <th>Embarked</th>\n",
       "      <td>-0.167675</td>\n",
       "      <td>0.162098</td>\n",
       "      <td>0.108262</td>\n",
       "      <td>-0.064594</td>\n",
       "      <td>0.068230</td>\n",
       "      <td>0.039798</td>\n",
       "      <td>-0.202444</td>\n",
       "      <td>1.000000</td>\n",
       "      <td>0.003031</td>\n",
       "    </tr>\n",
       "    <tr>\n",
       "      <th>Title</th>\n",
       "      <td>0.082092</td>\n",
       "      <td>-0.021163</td>\n",
       "      <td>0.169900</td>\n",
       "      <td>-0.264800</td>\n",
       "      <td>0.303551</td>\n",
       "      <td>0.211025</td>\n",
       "      <td>0.111966</td>\n",
       "      <td>0.003031</td>\n",
       "      <td>1.000000</td>\n",
       "    </tr>\n",
       "  </tbody>\n",
       "</table>\n",
       "</div>"
      ],
      "text/plain": [
       "          Survived    Pclass       Sex       Age     SibSp     Parch  \\\n",
       "Survived  1.000000 -0.338481 -0.543351 -0.090898 -0.035322  0.081629   \n",
       "Pclass   -0.338481  1.000000  0.131900 -0.276683  0.083081  0.018443   \n",
       "Sex      -0.543351  0.131900  1.000000  0.095401 -0.114631 -0.245489   \n",
       "Age      -0.090898 -0.276683  0.095401  1.000000 -0.220222 -0.204796   \n",
       "SibSp    -0.035322  0.083081 -0.114631 -0.220222  1.000000  0.414838   \n",
       "Parch     0.081629  0.018443 -0.245489 -0.204796  0.414838  1.000000   \n",
       "Fare      0.329862 -0.661022 -0.263276  0.057208  0.318528  0.332186   \n",
       "Embarked -0.167675  0.162098  0.108262 -0.064594  0.068230  0.039798   \n",
       "Title     0.082092 -0.021163  0.169900 -0.264800  0.303551  0.211025   \n",
       "\n",
       "              Fare  Embarked     Title  \n",
       "Survived  0.329862 -0.167675  0.082092  \n",
       "Pclass   -0.661022  0.162098 -0.021163  \n",
       "Sex      -0.263276  0.108262  0.169900  \n",
       "Age       0.057208 -0.064594 -0.264800  \n",
       "SibSp     0.318528  0.068230  0.303551  \n",
       "Parch     0.332186  0.039798  0.211025  \n",
       "Fare      1.000000 -0.202444  0.111966  \n",
       "Embarked -0.202444  1.000000  0.003031  \n",
       "Title     0.111966  0.003031  1.000000  "
      ]
     },
     "execution_count": 10,
     "metadata": {},
     "output_type": "execute_result"
    }
   ],
   "source": [
    "# Affichage matrice de corrélation sous forme de graphique\n",
    "sns.heatmap(df.corr(), annot=False)\n",
    "plt.show()\n",
    "\n",
    "# Affichage matrice de corrélation sous forme de tableau\n",
    "print('Matrice de corrélation :')\n",
    "df.corr()"
   ]
  },
  {
   "cell_type": "markdown",
   "metadata": {},
   "source": [
    "Nous pouvons constater qu'il y a une forte corrélation négative entre la survie du passager et le prix de son billet. Ceci explique également la forte corrélation positive entre la classe de voyage et la survie du passage. En effet, plus la classe est petite plus le billet est cher.\n",
    "<br>Nous constatons également une forte corrélation positive entre le genre du passager et ses chances de survie.\n",
    "<br><br><b>Ainsi, nous pouvons en déduire qu'un passager de sexe féminin voyageant en première classe a plus de chance de survie qu'un passager de sexe masculin voyageant en classe économique (3e).</b>"
   ]
  },
  {
   "cell_type": "markdown",
   "metadata": {},
   "source": [
    "<h3 style=\"font-weight:bold;color:#a64d79\">Données d'entrainement et de test</h3>"
   ]
  },
  {
   "cell_type": "markdown",
   "metadata": {},
   "source": [
    "Préparons maintenant nos données en les divisant en 2 ensembles : données d'entraînement (80%) et de test (20%). Cela nous permettra ensuite d'évaluer la performance du modèle sur des données qui n'ont pas été utilisées dans l'apprentissage.\n",
    "<br><br>Nous allons ensuite normaliser les caractéristiques d'entrainement afin de faciliter la détection de modèle."
   ]
  },
  {
   "cell_type": "code",
   "execution_count": 11,
   "metadata": {},
   "outputs": [],
   "source": [
    "from sklearn.model_selection import train_test_split\n",
    "from sklearn.preprocessing import StandardScaler\n",
    "\n",
    "# Division en des données ensemble d'entrainement et de test\n",
    "train_info, test_info, train_target, test_target = train_test_split(df.drop('Survived', axis=1), df['Survived'], test_size=0.2, random_state=10)\n",
    "\n",
    "# Normalisation des caractéristiques\n",
    "scaler = StandardScaler()\n",
    "train_info = scaler.fit_transform(train_info)\n",
    "test_info = scaler.transform(test_info)"
   ]
  },
  {
   "cell_type": "markdown",
   "metadata": {},
   "source": [
    "<h3 style=\"font-weight:bold;color:#a64d79\">Modélisation de classification</h3>"
   ]
  },
  {
   "cell_type": "markdown",
   "metadata": {},
   "source": [
    "Utilisons maintenant un modèle de classification pour prédire si un passager aurait pu survivre ou pas au naufrage du Titanic. "
   ]
  },
  {
   "cell_type": "code",
   "execution_count": 12,
   "metadata": {},
   "outputs": [],
   "source": [
    "from sklearn.linear_model import LogisticRegression\n",
    "\n",
    "# Modélisation de classification\n",
    "model = LogisticRegression(random_state=10)\n",
    "\n",
    "# Entrainement du modèle et prédiction de la variable cible dans l'ensemble test\n",
    "model.fit(train_info, train_target)\n",
    "predictions = model.predict(test_info)"
   ]
  },
  {
   "cell_type": "markdown",
   "metadata": {},
   "source": [
    "<h3 style=\"font-weight:bold;color:#a64d79\">Performance du modèle</h3>"
   ]
  },
  {
   "cell_type": "code",
   "execution_count": 13,
   "metadata": {},
   "outputs": [
    {
     "name": "stdout",
     "output_type": "stream",
     "text": [
      "Exactitude du modèle de  84.36 %\n",
      "\n",
      "Matrice de confusion :\n",
      "--------------------------------------------------------\n"
     ]
    },
    {
     "data": {
      "image/png": "[encoded data removed]",
      "text/plain": [
       "<Figure size 600x600 with 2 Axes>"
      ]
     },
     "metadata": {},
     "output_type": "display_data"
    },
    {
     "name": "stdout",
     "output_type": "stream",
     "text": [
      "\n",
      "Statistiques du modèle :\n",
      "--------------------------------------------------------\n",
      "\n",
      "               precision    recall  f1-score   support\n",
      "\n",
      "           0       0.89      0.87      0.88       117\n",
      "           1       0.77      0.79      0.78        62\n",
      "\n",
      "    accuracy                           0.84       179\n",
      "   macro avg       0.83      0.83      0.83       179\n",
      "weighted avg       0.84      0.84      0.84       179\n",
      "\n"
     ]
    }
   ],
   "source": [
    "from sklearn.metrics import accuracy_score, classification_report, confusion_matrix, roc_curve, auc\n",
    "\n",
    "\n",
    "# Exactitude du modèle\n",
    "accuracy = (accuracy_score(test_target, predictions))*100\n",
    "print(f\"Exactitude du modèle de {accuracy: .2f} %\")\n",
    "\n",
    "# Matrice de confusion\n",
    "confusion_mat = confusion_matrix(test_target, predictions)\n",
    "print(\"\\nMatrice de confusion :\\n--------------------------------------------------------\")\n",
    "\n",
    "plt.figure(figsize=(6, 6))\n",
    "sns.heatmap(confusion_matrix(test_target, predictions), annot=True, fmt='3.0f')\n",
    "plt.title('Matrice Confusion')\n",
    "plt.xlabel('Prediction')\n",
    "plt.ylabel('Actuel')\n",
    "plt.show()\n",
    "\n",
    "# Statistiques du modèle\n",
    "print(f\"\\nStatistiques du modèle :\\n--------------------------------------------------------\\n\\n {classification_report(test_target, predictions)}\")"
   ]
  },
  {
   "cell_type": "markdown",
   "metadata": {},
   "source": [
    "Notre modèle est précis à 89 % dans la prédiction des passagers décédés et à 77% dans la prédiction des passagers ayant survécu. Il est donc précis à <b>84,36 %</b> dans sa prédiction globale.\n",
    "<br>En effet, sur les 179 passagers,le  modèle a su correctement prédire le décès de 102 passagers et la survie 49 passagers.\n",
    "Il s'est trompé sur 28 passagers : 13 d'entre eux ont été prédits à tord comme décédé lors du naufrage du Titanic et 15 d'entres eux comme survivants de l'accident."
   ]
  },
  {
   "cell_type": "markdown",
   "metadata": {},
   "source": [
    "<h3 style=\"font-weight:bold;color:#a64d79\">Réglages hyperparamètres</h3>"
   ]
  },
  {
   "cell_type": "markdown",
   "metadata": {},
   "source": [
    "Nous pouvons améliorer la performance du modèle en ajustant les hyperparamètres. Il s'agit de paramètres d'ajustements des algorithmes de Machine Learning.\n",
    "Ils influent sur la manière dont le modèle est entrainé et sur sa façon d'apprendre.\n",
    "<br>Nous allons utiliser la méthode de recherche par grille qui permet d'entrainer le modèle sur toutes les combinaisons d'hyperparamètres possibles pour trouver celle qui offre la meilleure performance."
   ]
  },
  {
   "cell_type": "code",
   "execution_count": 14,
   "metadata": {},
   "outputs": [
    {
     "name": "stdout",
     "output_type": "stream",
     "text": [
      "Combinaison des hyperparamètres optimale :\n",
      "\n",
      " {'C': 1, 'max_iter': 100, 'penalty': 'l2', 'solver': 'liblinear'}\n",
      "\n",
      "Exactitude du nouveau modèle de  84.92 %\n",
      "\n",
      "Courbe ROC :\n",
      "--------------------------------------------------------\n",
      "\n",
      "Aire sous la courbe : 0.89\n"
     ]
    },
    {
     "data": {
      "image/png": "[encoded data removed]",
      "text/plain": [
       "<Figure size 600x600 with 1 Axes>"
      ]
     },
     "metadata": {},
     "output_type": "display_data"
    }
   ],
   "source": [
    "from sklearn.model_selection import GridSearchCV\n",
    "\n",
    "# Hyperparamètres à optimiser\n",
    "hyperparameter_grid = {\n",
    "    'C': [0.001, 0.01, 0.1, 1, 10, 100],\n",
    "    'penalty': ['l2'],\n",
    "    'solver': ['liblinear', 'newton-cg', 'lbfgs', 'sag', 'saga'],\n",
    "    'max_iter': [100, 500, 1000]\n",
    "}\n",
    "\n",
    "# Entrainement du modèle avec recherches des hyperparamètres optimaux et prédiction\n",
    "model = LogisticRegression(random_state=10)\n",
    "model.fit(train_info, train_target)\n",
    "grid_search = GridSearchCV(model, hyperparameter_grid, cv=5, scoring='accuracy')\n",
    "grid_search.fit(train_info, train_target)\n",
    "\n",
    "print(\"Combinaison des hyperparamètres optimale :\\n\\n\", grid_search.best_params_)\n",
    "best_combine = grid_search.best_estimator_\n",
    "\n",
    "predictions = best_combine.predict(test_info)\n",
    "\n",
    "# Performances du modèle\n",
    "accuracy = (accuracy_score(test_target, predictions))*100\n",
    "print(f\"\\nExactitude du nouveau modèle de {accuracy: .2f} %\")\n",
    "\n",
    "# Courbe ROC\n",
    "print(f\"\\nCourbe ROC :\\n--------------------------------------------------------\")\n",
    "\n",
    "probability_target = model.predict_proba(test_info)[:, 1]\n",
    "fpr, tpr, thresholds = roc_curve(test_target, probability_target)\n",
    "roc_auc = auc(fpr, tpr)\n",
    "\n",
    "print(f\"\\nAire sous la courbe : {roc_auc:.2f}\")\n",
    "\n",
    "plt.figure(figsize=(6, 6))\n",
    "plt.plot((fpr*100), (tpr*100), color=\"#E1AEBC\", lw=2, label=\"Courbe ROC\")\n",
    "plt.plot([0, 1], [0, 1], color=\"black\", lw=2, linestyle='--', label=\"Référence aléatoire\")\n",
    "plt.title(\"Courbe ROC\")\n",
    "plt.xlabel(\"Taux de faux positifs (%)\")\n",
    "plt.ylabel(\"Taux de vrais positifs (%)\")\n",
    "plt.legend(loc=\"lower right\")\n",
    "plt.show()"
   ]
  },
  {
   "cell_type": "markdown",
   "metadata": {},
   "source": [
    "Nous avns réussi à améliorer la performarnance du modèle. Sa précision s'élève maintenant à <b>84,92 %</b>. \n",
    "\n",
    "La courbe ROC permet d'évaluer la performance du modèle. Elle représente le taux de vrais positifs, soit le taux de passagers ayant survécu correctement prédit par le modèle, en fonction du taux de faux positifs, soit le taux de passagers prédit à tord comme survivant par le modèle.\n",
    "<br>Dans notre modèle, l'aire sous la courbe est de 0.89, cela signifie qu'il est assez performant (89%)."
   ]
  },
  {
   "cell_type": "markdown",
   "metadata": {},
   "source": [
    "<h2 style=\"font-weight:bold;color:#c27ba0\">Conclusion</h2>"
   ]
  },
  {
   "cell_type": "markdown",
   "metadata": {},
   "source": [
    "Dans un premier temps, nous avons exploré les colonnes du dataset afin d'identifier les données pertinentes.\n",
    "\n",
    "Nous avons ensuite effectuer les transformations nécessaires sur les données pour pouvoir mieux les exploiter. Nous avons également compléter les données manquantes grâce à une analyse de corrélation avec les autres données.\n",
    "\n",
    "Nous avons ensuite scinder les données en deux ensembles. Un modèle de classification a été ensuite utilisé afin de réaliser un apprentissage supervisée sur le premier ensemble de données puis une prédiction sur les données du deuxième ensemble. Nous avons également régler les hyperparamètres afin d'améliorer la performance du modèle.\n",
    "<br>La performance du modèle peut encore être amélioré si nous avions étudier les informations relatives aux cabines et à leur disposition dans le bateau.\n",
    "En améliorant le modèle, il pourrait peut-être avoir un jour un AUC proche de 1 et donc être considéré comme extrêment fiable.\n",
    "\n",
    "C'est ainsi que nous avons réussi à prédire à <b>84,92 %</b> la survie d'un passager du Titanic lors du nauffrage.\n",
    "\n",
    "<br><b>Un passager de sexe féminin voyageant en première classe a plus de chance de survie qu'un passager de sexe masculin voyageant en classe économique (3e).</b>"
   ]
  }
 ],
 "metadata": {
  "kernelspec": {
   "display_name": "base",
   "language": "python",
   "name": "python3"
  },
  "language_info": {
   "codemirror_mode": {
    "name": "ipython",
    "version": 3
   },
   "file_extension": ".py",
   "mimetype": "text/x-python",
   "name": "python",
   "nbconvert_exporter": "python",
   "pygments_lexer": "ipython3",
   "version": "3.11.6"
  }
 },
 "nbformat": 4,
 "nbformat_minor": 2
}
